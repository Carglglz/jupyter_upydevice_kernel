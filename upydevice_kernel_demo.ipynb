{
 "cells": [
  {
   "cell_type": "code",
   "execution_count": 1,
   "metadata": {},
   "outputs": [
    {
     "name": "stdout",
     "output_type": "stream",
     "text": [
      "\u001b[1m\u001b[32mLICENSE\u001b[m\u001b[m*                    \u001b[1m\u001b[34mmpy_kernel_upydevice\u001b[m\u001b[m/\n",
      "\u001b[1m\u001b[32mREADME.rst\u001b[m\u001b[m*                 setup.py\n",
      "acc-plot.png                upydevie_kernel_demo.ipynb\n"
     ]
    }
   ],
   "source": [
    "%local\n",
    "ls"
   ]
  },
  {
   "cell_type": "code",
   "execution_count": 2,
   "metadata": {},
   "outputs": [
    {
     "name": "stdout",
     "output_type": "stream",
     "text": [
      "\u001b[32m\n",
      " ** Serial connected **\n",
      "\n",
      "\u001b[0m/dev/tty.SLAB_USBtoUART\n",
      "\n",
      "MicroPython v1.12-63-g1c849d63a on 2020-01-14; ESP32 module with ESP32\n",
      "Type \"help()\" for more information.\n"
     ]
    }
   ],
   "source": [
    "%serialconnect /dev/tty.SLAB_USBtoUART 115200"
   ]
  },
  {
   "cell_type": "code",
   "execution_count": 3,
   "metadata": {},
   "outputs": [
    {
     "name": "stdout",
     "output_type": "stream",
     "text": [
      "Welcome to MicroPython on the ESP32!\n",
      "\n",
      "For generic online docs please visit http://docs.micropython.org/\n",
      "\n",
      "For access to the hardware use the 'machine' module:\n",
      "\n",
      "import machine\n",
      "pin12 = machine.Pin(12, machine.Pin.OUT)\n",
      "pin12.value(1)\n",
      "pin13 = machine.Pin(13, machine.Pin.IN, machine.Pin.PULL_UP)\n",
      "print(pin13.value())\n",
      "i2c = machine.I2C(scl=machine.Pin(21), sda=machine.Pin(22))\n",
      "i2c.scan()\n",
      "i2c.writeto(addr, b'1234')\n",
      "i2c.readfrom(addr, 4)\n",
      "\n",
      "Basic WiFi configuration:\n",
      "\n",
      "import network\n",
      "sta_if = network.WLAN(network.STA_IF); sta_if.active(True)\n",
      "sta_if.scan()                             # Scan for available access points\n",
      "sta_if.connect(\"<AP_name>\", \"<password>\") # Connect to an AP\n",
      "sta_if.isconnected()                      # Check for successful connection\n",
      "\n",
      "Control commands:\n",
      "  CTRL-A        -- on a blank line, enter raw REPL mode\n",
      "  CTRL-B        -- on a blank line, enter normal REPL mode\n",
      "  CTRL-C        -- interrupt a running program\n",
      "  CTRL-D        -- on a blank line, do a soft reset of the board\n",
      "  CTRL-E        -- on a blank line, enter paste mode\n",
      "\n",
      "For further help on a specific object, type help(obj)\n",
      "For a list of available modules, type help('modules')\n"
     ]
    }
   ],
   "source": [
    "help()"
   ]
  },
  {
   "cell_type": "code",
   "execution_count": 4,
   "metadata": {},
   "outputs": [
    {
     "name": "stdout",
     "output_type": "stream",
     "text": [
      "Memmory         Size        Used       Avail        Use%    \n",
      "RAM          116.250 KB  14.578 KB   101.672 KB   12.5 %\n"
     ]
    }
   ],
   "source": [
    "%meminfo"
   ]
  },
  {
   "cell_type": "code",
   "execution_count": 5,
   "metadata": {},
   "outputs": [
    {
     "name": "stdout",
     "output_type": "stream",
     "text": [
      "DEVICE: esp32_tty.SLAB_USBtoUART, SERIAL PORT: /dev/tty.SLAB_USBtoUART , BAUDRATE: 115200,  ID: 30aea4233564\n",
      "SYSTEM NAME: esp32\n",
      "NODE NAME: esp32\n",
      "RELEASE: 1.12.0\n",
      "VERSION: v1.12-63-g1c849d63a on 2020-01-14\n",
      "MACHINE: ESP32 module with ESP32\n"
     ]
    }
   ],
   "source": [
    "%whoami"
   ]
  },
  {
   "cell_type": "code",
   "execution_count": 6,
   "metadata": {},
   "outputs": [
    {
     "name": "stdout",
     "output_type": "stream",
     "text": [
      "0\n",
      "1\n",
      "2\n",
      "3\n",
      "4\n",
      "5\n",
      "6\n",
      "7\n",
      "8\n",
      "9\n"
     ]
    }
   ],
   "source": [
    "for i in range(10):\n",
    "    print(i)"
   ]
  },
  {
   "cell_type": "code",
   "execution_count": 7,
   "metadata": {},
   "outputs": [],
   "source": [
    "import time"
   ]
  },
  {
   "cell_type": "code",
   "execution_count": 8,
   "metadata": {},
   "outputs": [
    {
     "name": "stdout",
     "output_type": "stream",
     "text": [
      "Hello\n",
      "Hello\n",
      "Hello\n",
      "Hello\n",
      "Hello\n"
     ]
    },
    {
     "name": "stderr",
     "output_type": "stream",
     "text": [
      "Traceback (most recent call last):\n",
      "  File \"<stdin>\", line 3, in <module>\n",
      "KeyboardInterrupt: \n",
      "\n",
      "\n"
     ]
    }
   ],
   "source": [
    "for i in range(10):\n",
    "    print('Hello')\n",
    "    time.sleep(1)"
   ]
  },
  {
   "cell_type": "code",
   "execution_count": 2,
   "metadata": {},
   "outputs": [
    {
     "name": "stdout",
     "output_type": "stream",
     "text": [
      "\u001b[32m\n",
      " ** WebREPL connected **\n",
      "\u001b[0m\n",
      "MicroPython v1.11-183-ga8e3201b3 on 2019-07-31; ESP32 module with ESP32\n",
      "Type \"help()\" for more information.\n"
     ]
    }
   ],
   "source": [
    "%websocketconnect '192.168.1.49' --password 'keyespw'"
   ]
  },
  {
   "cell_type": "code",
   "execution_count": 3,
   "metadata": {},
   "outputs": [
    {
     "name": "stdout",
     "output_type": "stream",
     "text": [
      "Hello\n"
     ]
    }
   ],
   "source": [
    "print('Hello')"
   ]
  },
  {
   "cell_type": "code",
   "execution_count": 4,
   "metadata": {},
   "outputs": [],
   "source": [
    "import os"
   ]
  },
  {
   "cell_type": "code",
   "execution_count": 5,
   "metadata": {},
   "outputs": [
    {
     "data": {
      "text/plain": [
       "['boot.py', 'webrepl_cfg.py', 'main.py', 'pyboard_conn.py', 'sdcard.py', 'SD_Timer_LSM9DS1.py', 'init_IMU.py', 'lsm9ds1.py', 'SD_AM.py', 'udummy.py', 'sync_tool.py', 'lib', 'upydev_.config', 'dummy_script.py', 'dummy_time.py', 'time_it.py', 'buzzertools.py', 'bme280.py', 'init_BME280.py', 'socket_client_server.py', 'dac_signal_gen.py', 'stepper.py', 'servo.py', 'mqtt_client.py', 'init_ADS.py', 'ads1115.py', 'init_INA219.py', 'ina219.py', 'dcmotor.py', 'dummy_inf_loop.py', 'test_code.py', 'weatpy_json_api.py', 'maes.mpy', 'wifi_.config', 'ap_.config', 'wifiutils.py', 'wsec_util.py', 'irq_controller.py', 'error.log', 'exception.txt', 'BME_util.py', 'STREAMER_util.py', 'example_upylog.py', 'upylog.py', 'upylog_test_code.py', 'Timer_LSM9DS1.py', 'init_IMU_OLD.py', 'upynotify.py', 'weatpy_tcp_api.py', 'upy_pub_rsa30aea41e73f8.key', 'SSL_key30aea41e73f8.der', 'SSL_certificate30aea41e73f8.der', 'example.txt', 'test_dir']\n"
      ]
     },
     "execution_count": 5,
     "metadata": {},
     "output_type": "execute_result"
    }
   ],
   "source": [
    "os.listdir()"
   ]
  },
  {
   "cell_type": "code",
   "execution_count": null,
   "metadata": {},
   "outputs": [],
   "source": []
  }
 ],
 "metadata": {
  "kernelspec": {
   "display_name": "MicroPython upydevice kernel",
   "language": "micropython",
   "name": "micropython-upydevice"
  },
  "language_info": {
   "codemirror_mode": "python",
   "file_extension": ".py",
   "mimetype": "text/python",
   "name": "micropython"
  }
 },
 "nbformat": 4,
 "nbformat_minor": 4
}
