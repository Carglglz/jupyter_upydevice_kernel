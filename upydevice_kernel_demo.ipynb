{
 "cells": [
  {
   "cell_type": "code",
   "execution_count": 1,
   "metadata": {},
   "outputs": [
    {
     "name": "stdout",
     "output_type": "stream",
     "text": [
      "\u001b[1m\u001b[32mLICENSE\u001b[m\u001b[m*                                \u001b[1m\u001b[34mdist\u001b[m\u001b[m/\n",
      "\u001b[1m\u001b[32mREADME.rst\u001b[m\u001b[m*                             \u001b[1m\u001b[34mjupyter_micropython_upydevice.egg-info\u001b[m\u001b[m/\n",
      "acc-plot.png                            \u001b[1m\u001b[34mmpy_kernel_upydevice\u001b[m\u001b[m/\n",
      "acc-plot2.png                           mpy_kernel_upydevice_test.py\n",
      "\u001b[1m\u001b[34mbuild\u001b[m\u001b[m/                                  setup.py\n",
      "changelog.md                            upydevice_kernel_demo.ipynb\n"
     ]
    }
   ],
   "source": [
    "%local\n",
    "ls"
   ]
  },
  {
   "cell_type": "code",
   "execution_count": 2,
   "metadata": {},
   "outputs": [
    {
     "name": "stdout",
     "output_type": "stream",
     "text": [
      "\u001b[32m\n",
      " ** Serial connected **\n",
      "\n",
      "\u001b[0m/dev/tty.SLAB_USBtoUART\n",
      "\n",
      "MicroPython v1.12-63-g1c849d63a on 2020-01-14; ESP32 module with ESP32\n",
      "Type \"help()\" for more information.\n"
     ]
    }
   ],
   "source": [
    "%serialconnect /dev/tty.SLAB_USBtoUART 115200"
   ]
  },
  {
   "cell_type": "code",
   "execution_count": 3,
   "metadata": {},
   "outputs": [
    {
     "name": "stdout",
     "output_type": "stream",
     "text": [
      "Welcome to MicroPython on the ESP32!\n",
      "\n",
      "For generic online docs please visit http://docs.micropython.org/\n",
      "\n",
      "For access to the hardware use the 'machine' module:\n",
      "\n",
      "import machine\n",
      "pin12 = machine.Pin(12, machine.Pin.OUT)\n",
      "pin12.value(1)\n",
      "pin13 = machine.Pin(13, machine.Pin.IN, machine.Pin.PULL_UP)\n",
      "print(pin13.value())\n",
      "i2c = machine.I2C(scl=machine.Pin(21), sda=machine.Pin(22))\n",
      "i2c.scan()\n",
      "i2c.writeto(addr, b'1234')\n",
      "i2c.readfrom(addr, 4)\n",
      "\n",
      "Basic WiFi configuration:\n",
      "\n",
      "import network\n",
      "sta_if = network.WLAN(network.STA_IF); sta_if.active(True)\n",
      "sta_if.scan()                             # Scan for available access points\n",
      "sta_if.connect(\"<AP_name>\", \"<password>\") # Connect to an AP\n",
      "sta_if.isconnected()                      # Check for successful connection\n",
      "\n",
      "Control commands:\n",
      "  CTRL-A        -- on a blank line, enter raw REPL mode\n",
      "  CTRL-B        -- on a blank line, enter normal REPL mode\n",
      "  CTRL-C        -- interrupt a running program\n",
      "  CTRL-D        -- on a blank line, do a soft reset of the board\n",
      "  CTRL-E        -- on a blank line, enter paste mode\n",
      "\n",
      "For further help on a specific object, type help(obj)\n",
      "For a list of available modules, type help('modules')\n"
     ]
    }
   ],
   "source": [
    "help()"
   ]
  },
  {
   "cell_type": "code",
   "execution_count": 4,
   "metadata": {},
   "outputs": [
    {
     "name": "stdout",
     "output_type": "stream",
     "text": [
      "Memmory         Size        Used       Avail        Use%    \n",
      "RAM          116.250 KB  14.578 KB   101.672 KB   12.5 %\n"
     ]
    }
   ],
   "source": [
    "%meminfo"
   ]
  },
  {
   "cell_type": "code",
   "execution_count": 5,
   "metadata": {},
   "outputs": [
    {
     "name": "stdout",
     "output_type": "stream",
     "text": [
      "DEVICE: esp32_tty.SLAB_USBtoUART, SERIAL PORT: /dev/tty.SLAB_USBtoUART , BAUDRATE: 115200,  ID: 30aea4233564\n",
      "SYSTEM NAME: esp32\n",
      "NODE NAME: esp32\n",
      "RELEASE: 1.12.0\n",
      "VERSION: v1.12-63-g1c849d63a on 2020-01-14\n",
      "MACHINE: ESP32 module with ESP32\n"
     ]
    }
   ],
   "source": [
    "%whoami"
   ]
  },
  {
   "cell_type": "code",
   "execution_count": 6,
   "metadata": {},
   "outputs": [
    {
     "name": "stdout",
     "output_type": "stream",
     "text": [
      "0\n",
      "1\n",
      "2\n",
      "3\n",
      "4\n",
      "5\n",
      "6\n",
      "7\n",
      "8\n",
      "9\n"
     ]
    }
   ],
   "source": [
    "for i in range(10):\n",
    "    print(i)"
   ]
  },
  {
   "cell_type": "code",
   "execution_count": 7,
   "metadata": {},
   "outputs": [],
   "source": [
    "import time"
   ]
  },
  {
   "cell_type": "code",
   "execution_count": 8,
   "metadata": {},
   "outputs": [
    {
     "name": "stdout",
     "output_type": "stream",
     "text": [
      "Hello\n",
      "Hello\n",
      "Hello\n",
      "Hello\n",
      "Hello\n"
     ]
    },
    {
     "name": "stderr",
     "output_type": "stream",
     "text": [
      "Traceback (most recent call last):\n",
      "  File \"<stdin>\", line 3, in <module>\n",
      "KeyboardInterrupt: \n",
      "\n",
      "\n"
     ]
    }
   ],
   "source": [
    "for i in range(10):\n",
    "    print('Hello')\n",
    "    time.sleep(1)"
   ]
  },
  {
   "cell_type": "code",
   "execution_count": 2,
   "metadata": {},
   "outputs": [
    {
     "name": "stdout",
     "output_type": "stream",
     "text": [
      "\u001b[32m\n",
      " ** WebREPL connected **\n",
      "\u001b[0m\n",
      "MicroPython v1.11-183-ga8e3201b3 on 2019-07-31; ESP32 module with ESP32\n",
      "Type \"help()\" for more information.\n"
     ]
    }
   ],
   "source": [
    "%websocketconnect '192.168.1.49' --password 'keyespw'"
   ]
  },
  {
   "cell_type": "code",
   "execution_count": 3,
   "metadata": {},
   "outputs": [
    {
     "name": "stdout",
     "output_type": "stream",
     "text": [
      "Hello\n"
     ]
    }
   ],
   "source": [
    "print('Hello')"
   ]
  },
  {
   "cell_type": "code",
   "execution_count": 4,
   "metadata": {},
   "outputs": [],
   "source": [
    "import os"
   ]
  },
  {
   "cell_type": "code",
   "execution_count": 5,
   "metadata": {},
   "outputs": [
    {
     "data": {
      "text/plain": [
       "['boot.py', 'webrepl_cfg.py', 'main.py', 'pyboard_conn.py', 'sdcard.py', 'SD_Timer_LSM9DS1.py', 'init_IMU.py', 'lsm9ds1.py', 'SD_AM.py', 'udummy.py', 'sync_tool.py', 'lib', 'upydev_.config', 'dummy_script.py', 'dummy_time.py', 'time_it.py', 'buzzertools.py', 'bme280.py', 'init_BME280.py', 'socket_client_server.py', 'dac_signal_gen.py', 'stepper.py', 'servo.py', 'mqtt_client.py', 'init_ADS.py', 'ads1115.py', 'init_INA219.py', 'ina219.py', 'dcmotor.py', 'dummy_inf_loop.py', 'test_code.py', 'weatpy_json_api.py', 'maes.mpy', 'wifi_.config', 'ap_.config', 'wifiutils.py', 'wsec_util.py', 'irq_controller.py', 'error.log', 'exception.txt', 'BME_util.py', 'STREAMER_util.py', 'example_upylog.py', 'upylog.py', 'upylog_test_code.py', 'Timer_LSM9DS1.py', 'init_IMU_OLD.py', 'upynotify.py', 'weatpy_tcp_api.py', 'upy_pub_rsa30aea41e73f8.key', 'SSL_key30aea41e73f8.der', 'SSL_certificate30aea41e73f8.der', 'example.txt', 'test_dir']\n"
      ]
     },
     "execution_count": 5,
     "metadata": {},
     "output_type": "execute_result"
    }
   ],
   "source": [
    "os.listdir()"
   ]
  },
  {
   "cell_type": "code",
   "execution_count": 1,
   "metadata": {},
   "outputs": [
    {
     "name": "stdout",
     "output_type": "stream",
     "text": [
      "\u001b[32m\n",
      " ** Serial connected **\n",
      "\n",
      "\u001b[0mSerialDevice @ /dev/tty.SLAB_USBtoUART, Type: esp32, Class: SerialDevice\n",
      "Firmware: MicroPython v1.16 on 2021-06-24; ESP32 module with ESP32\n",
      "CP2104 USB to UART Bridge Controller, Manufacturer: Silicon Labs\n",
      "(MAC: 30:ae:a4:23:35:64)\n",
      "\n",
      "MicroPython v1.16 on 2021-06-24; ESP32 module with ESP32\n",
      "Type \"help()\" for more information.\n"
     ]
    }
   ],
   "source": [
    "%serialconnect @sdev"
   ]
  },
  {
   "cell_type": "code",
   "execution_count": 2,
   "metadata": {},
   "outputs": [
    {
     "name": "stdout",
     "output_type": "stream",
     "text": [
      "(sysname='esp32', nodename='esp32', release='1.16.0', version='v1.16 on 2021-06-24', machine='ESP32 module with ESP32')\n"
     ]
    }
   ],
   "source": [
    "import uos;\n",
    "uos.uname()"
   ]
  },
  {
   "cell_type": "code",
   "execution_count": 3,
   "metadata": {},
   "outputs": [
    {
     "data": {
      "text/plain": [
       "['sys', 'np', 'CLEAR', 'time', '__name__', 'RED', 'esp', 'Pin', 'minimoonlogo', 'os', 'clear_neopixels', 'color', 'GREEN', 'gc', 'uos', 'N_NEOPIXELS', 'bdev', 'led', 'npix', 'unique_id', 'i', 'BLUE', 'mbt', 'COLORS', 'horns']\n"
      ]
     },
     "execution_count": 3,
     "metadata": {},
     "output_type": "execute_result"
    }
   ],
   "source": [
    "dir()"
   ]
  },
  {
   "cell_type": "code",
   "execution_count": 4,
   "metadata": {},
   "outputs": [],
   "source": [
    "pixels = np\n",
    "\n",
    "def set_colour(r, g, b):\n",
    "    pixels[0:6] = (r, g, b)\n",
    "    pixels.write()\n",
    "\n",
    "set_colour(0xff, 0xff, 0xff)"
   ]
  },
  {
   "cell_type": "code",
   "execution_count": 7,
   "metadata": {},
   "outputs": [],
   "source": [
    "set_colour(0,0,0)"
   ]
  },
  {
   "cell_type": "code",
   "execution_count": 6,
   "metadata": {},
   "outputs": [
    {
     "data": {
      "application/vnd.jupyter.widget-view+json": {
       "model_id": "b4000d2ec61a4c54ab334cea9938c939",
       "version_major": 2,
       "version_minor": 0
      },
      "text/plain": [
       "interactive(children=(FloatSlider(value=0.0, description='hue', layout=Layout(height='80px', width='80%'), max…"
      ]
     },
     "metadata": {},
     "output_type": "display_data"
    },
    {
     "data": {
      "text/plain": [
       "<function __main__.set_hue(hue)>"
      ]
     },
     "execution_count": 6,
     "metadata": {},
     "output_type": "execute_result"
    }
   ],
   "source": [
    "%local\n",
    "import colorsys\n",
    "from ipywidgets import interact, Layout, FloatSlider\n",
    "\n",
    "def set_hue(hue):\n",
    "    r, g, b = (int(p*255) for p in colorsys.hsv_to_rgb(hue, 1.0, 1.0))\n",
    "    remote(f\"set_colour({r}, {g}, {b})\")\n",
    "\n",
    "slider = FloatSlider(min=0,max=1.0,step=0.01, layout=Layout(width='80%', height='80px'))\n",
    "interact(set_hue, hue=slider)"
   ]
  },
  {
   "cell_type": "code",
   "execution_count": 3,
   "metadata": {},
   "outputs": [
    {
     "name": "stdout",
     "output_type": "stream",
     "text": [
      "\u001b[31mDevice esp32 disconnected.\u001b[0m"
     ]
    }
   ],
   "source": [
    "%disconnect"
   ]
  },
  {
   "cell_type": "code",
   "execution_count": 4,
   "metadata": {},
   "outputs": [
    {
     "name": "stdout",
     "output_type": "stream",
     "text": [
      "\u001b[32m\n",
      " ** Serial connected **\n",
      "\n",
      "\u001b[0mSerialDevice @ /dev/tty.usbmodem387E386731342, Type: pyboard, Class: SerialDevice\n",
      "Firmware: MicroPython v1.16-60-gc1f74b300 on 2021-07-07; PYBLITEv1.0 with STM32F411RE\n",
      "Pyboard Virtual Comm Port in FS Mode, Manufacturer: MicroPython\n",
      "(MAC: 33:00:4e:00:03:51:34:31:34:38:30:38)\n",
      "\n",
      "MicroPython v1.16-60-gc1f74b300 on 2021-07-07; PYBLITEv1.0 with STM32F411RE\n",
      "Type \"help()\" for more information.\n"
     ]
    }
   ],
   "source": [
    "%serialconnect @fanpy"
   ]
  },
  {
   "cell_type": "code",
   "execution_count": 9,
   "metadata": {},
   "outputs": [],
   "source": [
    "import uos"
   ]
  },
  {
   "cell_type": "code",
   "execution_count": 10,
   "metadata": {},
   "outputs": [
    {
     "data": {
      "text/plain": [
       "(sysname='pyboard', nodename='pyboard', release='1.16.0', version='v1.16-60-gc1f74b300 on 2021-07-07', machine='PYBLITEv1.0 with STM32F411RE')\n"
      ]
     },
     "execution_count": 10,
     "metadata": {},
     "output_type": "execute_result"
    }
   ],
   "source": [
    "uos.uname()"
   ]
  },
  {
   "cell_type": "code",
   "execution_count": 7,
   "metadata": {},
   "outputs": [
    {
     "name": "stdout",
     "output_type": "stream",
     "text": [
      "(sysname='pyboard', nodename='pyboard', release='1.16.0', version='v1.16-60-gc1f74b300 on 2021-07-07', machine='PYBLITEv1.0 with STM32F411RE')\n"
     ]
    }
   ],
   "source": [
    "import os\n",
    "os.uname()"
   ]
  },
  {
   "cell_type": "code",
   "execution_count": 8,
   "metadata": {},
   "outputs": [
    {
     "name": "stdout",
     "output_type": "stream",
     "text": [
      "Rebooting device pyboard...\n",
      "Done!\n"
     ]
    }
   ],
   "source": [
    "%rebootdevice"
   ]
  },
  {
   "cell_type": "code",
   "execution_count": 11,
   "metadata": {},
   "outputs": [
    {
     "name": "stdout",
     "output_type": "stream",
     "text": [
      "\u001b[31mDevice pyboard disconnected.\u001b[0m"
     ]
    }
   ],
   "source": [
    "%disconnect"
   ]
  },
  {
   "cell_type": "code",
   "execution_count": 1,
   "metadata": {},
   "outputs": [],
   "source": [
    "%local\n",
    "import upydevice"
   ]
  },
  {
   "cell_type": "code",
   "execution_count": 2,
   "metadata": {},
   "outputs": [
    {
     "data": {
      "text/plain": [
       "'0.3.0dev'"
      ]
     },
     "execution_count": 2,
     "metadata": {},
     "output_type": "execute_result"
    }
   ],
   "source": [
    "%local\n",
    "upydevice.__version__"
   ]
  },
  {
   "cell_type": "code",
   "execution_count": 1,
   "metadata": {},
   "outputs": [
    {
     "name": "stdout",
     "output_type": "stream",
     "text": [
      "\u001b[32m\n",
      " ** Serial connected **\n",
      "\n",
      "\u001b[0mSerialDevice @ /dev/tty.usbmodem387E386731342, Type: pyboard, Class: SerialDevice\n",
      "Firmware: MicroPython v1.16-60-gc1f74b300 on 2021-07-07; PYBLITEv1.0 with STM32F411RE\n",
      "Pyboard Virtual Comm Port in FS Mode, Manufacturer: MicroPython\n",
      "(MAC: 33:00:4e:00:03:51:34:31:34:38:30:38)\n",
      "\n",
      "MicroPython v1.16-60-gc1f74b300 on 2021-07-07; PYBLITEv1.0 with STM32F411RE\n",
      "Type \"help()\" for more information.\n"
     ]
    }
   ],
   "source": [
    "%serialconnect @fanpy"
   ]
  },
  {
   "cell_type": "code",
   "execution_count": 2,
   "metadata": {},
   "outputs": [],
   "source": [
    "import uos"
   ]
  },
  {
   "cell_type": "code",
   "execution_count": 3,
   "metadata": {},
   "outputs": [
    {
     "data": {
      "text/plain": [
       "(sysname='pyboard', nodename='pyboard', release='1.16.0', version='v1.16-60-gc1f74b300 on 2021-07-07', machine='PYBLITEv1.0 with STM32F411RE')\n"
      ]
     },
     "execution_count": 3,
     "metadata": {},
     "output_type": "execute_result"
    }
   ],
   "source": [
    "uos.uname()"
   ]
  },
  {
   "cell_type": "code",
   "execution_count": 4,
   "metadata": {},
   "outputs": [
    {
     "name": "stdout",
     "output_type": "stream",
     "text": [
      "\n",
      "(sysname='pyboard', nodename='pyboard', release='1.16.0', version='v1.16-60-gc1f74b300 on 2021-07-07', machine='PYBLITEv1.0 with STM32F411RE')\n"
     ]
    }
   ],
   "source": [
    "import uos\n",
    "uos.uname()"
   ]
  },
  {
   "cell_type": "code",
   "execution_count": 10,
   "metadata": {},
   "outputs": [
    {
     "data": {
      "text/plain": [
       "True\n"
      ]
     },
     "execution_count": 10,
     "metadata": {},
     "output_type": "execute_result"
    }
   ],
   "source": [
    "True and True"
   ]
  },
  {
   "cell_type": "code",
   "execution_count": 1,
   "metadata": {},
   "outputs": [
    {
     "name": "stdout",
     "output_type": "stream",
     "text": [
      "\u001b[32m\n",
      " ** WebREPL connected **\n",
      "\u001b[0m\n",
      "WebSocketDevice @ ws://192.168.1.53:8266, Type: esp32, Class: WebSocketDevice\n",
      "Firmware: MicroPython v1.16 on 2021-06-24; ESP32 module with ESP32\n",
      "(MAC: 30:ae:a4:23:35:64, RSSI: -45 dBm)\n",
      "\n",
      "MicroPython v1.16 on 2021-06-24; ESP32 module with ESP32\n",
      "Type \"help()\" for more information.\n"
     ]
    }
   ],
   "source": [
    "%websocketconnect @esp_dev"
   ]
  },
  {
   "cell_type": "code",
   "execution_count": 2,
   "metadata": {},
   "outputs": [
    {
     "name": "stdout",
     "output_type": "stream",
     "text": [
      "Hello\n"
     ]
    }
   ],
   "source": [
    "print('Hello')"
   ]
  },
  {
   "cell_type": "code",
   "execution_count": 5,
   "metadata": {},
   "outputs": [],
   "source": [
    "import time"
   ]
  },
  {
   "cell_type": "code",
   "execution_count": 6,
   "metadata": {},
   "outputs": [
    {
     "name": "stdout",
     "output_type": "stream",
     "text": [
      "\n",
      "Hello\n",
      "Hello\n",
      "Hello\n",
      "Hello\n",
      "Hello\n",
      "Hello\n",
      "Hello\n",
      "Hello\n",
      "Hello\n",
      "Hello\n"
     ]
    }
   ],
   "source": [
    "for i in range(10):\n",
    "    print('Hello')\n",
    "    time.sleep(0.2)"
   ]
  },
  {
   "cell_type": "code",
   "execution_count": 5,
   "metadata": {},
   "outputs": [
    {
     "name": "stdout",
     "output_type": "stream",
     "text": [
      "\u001b[32mDevice is reachable!\n",
      "\u001b[0m"
     ]
    }
   ],
   "source": [
    "%is_reachable"
   ]
  },
  {
   "cell_type": "code",
   "execution_count": 6,
   "metadata": {},
   "outputs": [
    {
     "name": "stdout",
     "output_type": "stream",
     "text": [
      "Memmory         Size        Used       Avail        Use%    \n",
      "RAM          108.562 KB  28.125 KB   80.438 KB    25.9 %\n"
     ]
    }
   ],
   "source": [
    "%meminfo"
   ]
  },
  {
   "cell_type": "code",
   "execution_count": 7,
   "metadata": {},
   "outputs": [
    {
     "name": "stdout",
     "output_type": "stream",
     "text": [
      "DEVICE: esp_dev, IP: 192.168.1.53 , PORT: 8266,  ID: 30aea4233564\n",
      "SYSTEM NAME: esp32\n",
      "NODE NAME: esp32\n",
      "RELEASE: 1.16.0\n",
      "VERSION: v1.16 on 2021-06-24\n",
      "MACHINE: ESP32 module with ESP32\n"
     ]
    }
   ],
   "source": [
    "%whoami"
   ]
  },
  {
   "cell_type": "code",
   "execution_count": 8,
   "metadata": {},
   "outputs": [
    {
     "data": {
      "text/plain": [
       "['lib', 'boot.py', 'main.py', 'wifi_.config', 'ap_.config', 'webrepl_cfg.py', 'dac_signal_gen.py', 'stepper.py', 'BUZZ_INTERRUPT.py', 'Timer_MAX30003.py', 'Timer_MAX30102.py', 'stepper_controller.py', 'upyOS.py', 'uPyOS_esp32.py', 'ssd1306.py', 'servo.py', 'load_cell_demo.py', 'udummy.py', 'EDITED_SCRIPT.py', 'BME_util.py', 'servo_controller.py', 'web_icon.pbm', 'mqtt_client.py', 'nfc_inv.pbm', 'dummy_script.py', 'my_new_example_file.txt', 'init_ADS.py', 'hx711.py', 'test_code.py',hnit_BME280.py', 'socket_client_server.py', 'upy_pub_rsa30aea4233564.key', 'pye.py', 'error.log', 'other_name.py', 'bme280.py', 'SD_AM.py', 'upylogo.pbm', 'IRQ_util.py', 'irq_controller.py', 'ADS_util.py', 'Timer_sampling_adc.py', 'IMU_util.py', 'ads1115.py', 'web_inv.pbm', 'buzzertools.py', 'SD_Timer_LSM9DS1.py', 'Timer_LSM9DS1.py', 'another.py', 'STREAMER_util.py', 'sdcard.py', 'ble_dir', 'MAX30102.py', 'lsm9ds1.py', 'init_IMU.py', 'init_INA219.py', 'MAX30003.py', 'log_small.txt', 'ina219.py', 'init_IMU_OLD.py', 'dcmotor.py', 'dummy_inf_loop.py', 'nfc_icon.pbm', 'wifiutils.py', 'new_file.txt', 'dummy_time.py', 'test_sync_dir', 'http_server_ssl.py', 'ssl_websockets', 'udummy_put_test.py', 'some_text.txt', 'some_code.py', 'ssl_test_dir', 'code_snip.py', 'GB_target_debug.py', 'ssl_socket_client_server.py', 'http_ssl_test.py', 'SSL_key.der', 'SSL_key30aea4233564.der', 'SSL_certificate30aea4233564.der', 'SSL_certificate.der', 'ssl_flag.py', 'mpy_test.py', 'uslack_api.py', 'ina219.mpy', 'SSL_server_client_test.py', 'main_test.py', 'text_testfile.txt', 'some_project_files', '.gittest', 'main_repo.py', 'git_project_dir', 'README.md', 'test_dir_root', 'other_file.txt', 'main', 'git_int_test.py', '.gitlog', '.githash', 'websocket_helper.py', 'repo_folder', 'repo_folder_2', 'example_file.txt', 'test_file.txt', 'syncdir_lev2', 'sync_dir_b2', '.upydev_wdlog.json', 'testing_wdl.txt', 'ble_uart_TEST.py', 'ble_test_file.txt', 'ble_transfer', 'blecode.py', 'ble_ads.py', 'ble_batt_temp.py', 'remote_wifi_.config', 'ble_temp_amb.py', 'ble_flag.py', 'findme_target_profile.py', 'proximity_reporter.py', 'dfu_target.py', 'appble.py', 'bledfu.py', 'ultimate_file.py', 'README_0.txt.asc', 'blekchain.tok', 'TESTPASS.bkp', '.gitignore', 'blekchain_token.py', 'watchdogtest', 'blekchain_target.py', 'testfile.bkp', 'AMAZON.bkp', 'src_main.py', 'src_boot.py', 'trezor_T.bkp', 'ble_batt_cputemp.py', 'MB_target_debug.py', 'ble_uart_MB.py', 'moonboard_protocol.py', 'exokey.pass', '12-seed.wp', 'cb.pass', 'WALLET@cgg.bkp', 'moonboard_target.py', 'ws2812.py', 'pixels.py', 'upysh.py', 'NFC_PN532.py', 'utag.py', 'fw-backup-4M.bin', 'NFC_pn532_spi.py', 'pn532_simpletest.py', 'ndefrecord.py', 'ndeftext.py', 'ndefmsg.py', 'uNDEF.py', 'ble_nfc_tag.py', 'testdec.txt', 'mp_test.py', 'upydev_.config']\n"
      ]
     },
     "execution_count": 8,
     "metadata": {},
     "output_type": "execute_result"
    }
   ],
   "source": [
    "os.listdir()"
   ]
  },
  {
   "cell_type": "code",
   "execution_count": 1,
   "metadata": {},
   "outputs": [
    {
     "data": {
      "text/plain": [
       "'3.7.9 (v3.7.9:13c94747c7, Aug 15 2020, 01:31:08) \\n[Clang 6.0 (clang-600.0.57)]'"
      ]
     },
     "execution_count": 1,
     "metadata": {},
     "output_type": "execute_result"
    }
   ],
   "source": [
    "%local\n",
    "import sys\n",
    "sys.version"
   ]
  },
  {
   "cell_type": "code",
   "execution_count": 19,
   "metadata": {},
   "outputs": [
    {
     "name": "stdout",
     "output_type": "stream",
     "text": [
      "[Service] 6e400001-b5a3-f393-e0a9-e50e24dcca9e: Nordic UART Service\n",
      "\t[Characteristic] 6e400003-b5a3-f393-e0a9-e50e24dcca9e: (notify) | Name: Nordic UART TX\n",
      "\t\t[Descriptor] [00002902-0000-1000-8000-00805f9b34fb]: Client Characteristic Configuration (Handle: 22) \n",
      "\t[Characteristic] 6e400002-b5a3-f393-e0a9-e50e24dcca9e: (write) | Name: Nordic UART RX\n",
      "\u001b[32m\n",
      " ** BleREPL connected **\n",
      "\u001b[0m\n",
      "BleDevice @ 9998175F-9A91-4CA2-B5EA-482AFC3453B9, Type: esp32 , Class: BleDevice\n",
      "Firmware: MicroPython v1.16 on 2021-06-24; ESP32 module with ESP32\n",
      "(MAC: 30:ae:a4:23:35:64, Local Name: esp32-34, RSSI: -58 dBm)\n",
      "\n",
      "MicroPython v1.16 on 2021-06-24; ESP32 module with ESP32\n",
      "Type \"help()\" for more information.\n"
     ]
    }
   ],
   "source": [
    "%bleconnect 9998175F-9A91-4CA2-B5EA-482AFC3453B9"
   ]
  },
  {
   "cell_type": "code",
   "execution_count": 20,
   "metadata": {},
   "outputs": [
    {
     "name": "stdout",
     "output_type": "stream",
     "text": [
      "\u001b[31mDevice esp32 disconnected.\u001b[0m"
     ]
    }
   ],
   "source": [
    "%disconnect"
   ]
  },
  {
   "cell_type": "code",
   "execution_count": 2,
   "metadata": {},
   "outputs": [
    {
     "name": "stdout",
     "output_type": "stream",
     "text": [
      "[Service] 6e400001-b5a3-f393-e0a9-e50e24dcca9e: Nordic UART Service\n",
      "\t[Characteristic] 6e400003-b5a3-f393-e0a9-e50e24dcca9e: (notify) | Name: Nordic UART TX\n",
      "\t\t[Descriptor] [00002902-0000-1000-8000-00805f9b34fb]: Client Characteristic Configuration (Handle: 22) \n",
      "\t[Characteristic] 6e400002-b5a3-f393-e0a9-e50e24dcca9e: (write) | Name: Nordic UART RX\n",
      "\u001b[32m\n",
      " ** BleREPL connected **\n",
      "\u001b[0m\n",
      "BleDevice @ 9998175F-9A91-4CA2-B5EA-482AFC3453B9, Type: esp32 , Class: BleDevice\n",
      "Firmware: MicroPython v1.16 on 2021-06-24; ESP32 module with ESP32\n",
      "(MAC: 30:ae:a4:23:35:64, Local Name: esp32-34, RSSI: -50 dBm)\n",
      "\n",
      "MicroPython v1.16 on 2021-06-24; ESP32 module with ESP32\n",
      "Type \"help()\" for more information.\n"
     ]
    }
   ],
   "source": [
    "%bleconnect @bledev"
   ]
  },
  {
   "cell_type": "code",
   "execution_count": 3,
   "metadata": {},
   "outputs": [
    {
     "name": "stdout",
     "output_type": "stream",
     "text": [
      "Hello\n"
     ]
    }
   ],
   "source": [
    "print('Hello')"
   ]
  },
  {
   "cell_type": "code",
   "execution_count": 17,
   "metadata": {},
   "outputs": [],
   "source": [
    "led.value(not led.value())"
   ]
  },
  {
   "cell_type": "code",
   "execution_count": 16,
   "metadata": {},
   "outputs": [],
   "source": [
    "led.on()"
   ]
  },
  {
   "cell_type": "code",
   "execution_count": 15,
   "metadata": {},
   "outputs": [
    {
     "name": "stdout",
     "output_type": "stream",
     "text": [
      "\n",
      "3\n"
     ]
    }
   ],
   "source": [
    "1+2"
   ]
  },
  {
   "cell_type": "code",
   "execution_count": 9,
   "metadata": {},
   "outputs": [
    {
     "name": "stdout",
     "output_type": "stream",
     "text": [
      "\n",
      "\n"
     ]
    }
   ],
   "source": [
    "import time\n",
    "import os"
   ]
  },
  {
   "cell_type": "code",
   "execution_count": 10,
   "metadata": {},
   "outputs": [
    {
     "name": "stdout",
     "output_type": "stream",
     "text": [
      "DEVICE: esp32-34, UUID: 9998175F-9A91-4CA2-B5EA-482AFC3453B9, ID: 30aea4233564\n",
      "SYSTEM NAME: esp32\n",
      "NODE NAME: esp32\n",
      "RELEASE: 1.16.0\n",
      "VERSION: v1.16 on 2021-06-24\n",
      "MACHINE: ESP32 module with ESP32\n"
     ]
    }
   ],
   "source": [
    "%whoami"
   ]
  },
  {
   "cell_type": "code",
   "execution_count": 11,
   "metadata": {},
   "outputs": [
    {
     "name": "stdout",
     "output_type": "stream",
     "text": [
      "Memmory         Size        Used       Avail        Use%    \n",
      "RAM          108.562 KB  88.016 KB   20.547 KB    81.1 %\n"
     ]
    }
   ],
   "source": [
    "%meminfo"
   ]
  },
  {
   "cell_type": "code",
   "execution_count": 12,
   "metadata": {},
   "outputs": [],
   "source": [
    "%gccollect"
   ]
  },
  {
   "cell_type": "code",
   "execution_count": 13,
   "metadata": {},
   "outputs": [
    {
     "name": "stdout",
     "output_type": "stream",
     "text": [
      "\u001b[32mDevice is reachable!\n",
      "\u001b[0m"
     ]
    }
   ],
   "source": [
    "%is_reachable"
   ]
  },
  {
   "cell_type": "code",
   "execution_count": 14,
   "metadata": {},
   "outputs": [
    {
     "name": "stdout",
     "output_type": "stream",
     "text": [
      "\n",
      "Hello\n",
      "Hello\n",
      "Hello\n",
      "Hello\n",
      "Hello\n",
      "\n",
      "\n",
      "*** Sending Ctrl-C\n",
      "\n",
      "Traceback (most recent call last):\n",
      "  File \"<stdin>\", line 3, in <module>\n",
      "KeyboardInterrupt: \n",
      "\n"
     ]
    }
   ],
   "source": [
    "for i in range(10):\n",
    "    print('Hello')\n",
    "    time.sleep(1)"
   ]
  },
  {
   "cell_type": "code",
   "execution_count": 18,
   "metadata": {},
   "outputs": [
    {
     "name": "stdout",
     "output_type": "stream",
     "text": [
      "\u001b[31mDevice esp32 disconnected.\u001b[0m"
     ]
    }
   ],
   "source": [
    "%disconnect"
   ]
  },
  {
   "cell_type": "code",
   "execution_count": 1,
   "metadata": {},
   "outputs": [
    {
     "name": "stdout",
     "output_type": "stream",
     "text": [
      "%disconnect\n",
      "    disconnects device\n",
      "\n",
      "%lsmagic\n",
      "    list magic commands\n",
      "\n",
      "%rebootdevice\n",
      "    reboots device\n",
      "\n",
      "%is_reachable\n",
      "    Test if device is reachable (must be connected first)\n",
      "\n",
      "%serialconnect [-kbi] [portname] [baudrate]\n",
      "    connects to a device over USB, default baudrate is 115200\n",
      "\n",
      "%websocketconnect [--password PASSWORD] [-kbi] [-ssl] [websocketurl]\n",
      "    connects to the WebREPL over wifi (WebREPL daemon must be running)\n",
      "    websocketurl defaults to 192.168.4.1 (uri -> ws://192.168.4.1:8266)\n",
      "\n",
      "%bleconnect [bleaddress]\n",
      "    connects to the BleREPL over Bluetooth Low Energy(BleREPL must be running)\n",
      "%meminfo\n",
      "    Shows RAM size/used/free/use% info\n",
      "\n",
      "%whoami\n",
      "    Shows Device name, port, id, and system info\n",
      "\n",
      "%gccollect\n",
      "    To use the garbage collector and free some RAM if possible\n",
      "\n",
      "%local\n",
      "    To run the cell contents in local iPython\n",
      "\n",
      "%sync\n",
      "    To sync a variable/output data structure of the device into iPython \n",
      "    if no var name provided it stores the output into _\n",
      "\n",
      "%logdata [-fs FS] [-tm TM] [-u U [U ...]] [-s] v [v ...]\n",
      "    To log output data of the device into iPython, \n",
      "    data is stored in 'devlog'\n",
      "\n",
      "   positional arguments:\n",
      "      v             Name of variables\n",
      "   optional arguments:\n",
      "      -fs FS        Sampling frequency in Hz\n",
      "      -tm TM        Sampling timeout in ms\n",
      "      -u U [U ...]  Unit of variables\n",
      "      -s            Silent mode\n",
      "    \n",
      "%devplot\n",
      "    To plot devlog data\n",
      "\n"
     ]
    }
   ],
   "source": [
    "%lsmagic"
   ]
  },
  {
   "cell_type": "code",
   "execution_count": 9,
   "metadata": {},
   "outputs": [
    {
     "name": "stdout",
     "output_type": "stream",
     "text": [
      "[Service] 6e400001-b5a3-f393-e0a9-e50e24dcca9e: Nordic UART Service\n",
      "\t[Characteristic] 6e400003-b5a3-f393-e0a9-e50e24dcca9e: (notify) | Name: Nordic UART TX\n",
      "\t\t[Descriptor] [00002902-0000-1000-8000-00805f9b34fb]: Client Characteristic Configuration (Handle: 17) \n",
      "\t[Characteristic] 6e400002-b5a3-f393-e0a9-e50e24dcca9e: (write-without-response,write) | Name: Nordic UART RX\n",
      "\u001b[32m\n",
      " ** BleREPL connected **\n",
      "\u001b[0m\n",
      "BleDevice @ F53EDB2E-25A2-45A7-95A5-4D775DFE51D2, Type: nrf52 , Class: BleDevice\n",
      "Firmware: MicroPython v1.4.5-7345-g9d1f1c2f9-dirty on 2021-04-29; COLMI P8 with NRF52832\n",
      "(MAC: dd:a7:ca:85:a6:c4, Local Name: P8, RSSI: -73 dBm)\n",
      "\n",
      "MicroPython v1.4.5-7345-g9d1f1c2f9-dirty on 2021-04-29; COLMI P8 with NRF52832\n",
      "Type \"help()\" for more information.\n"
     ]
    }
   ],
   "source": [
    "%bleconnect @p8"
   ]
  },
  {
   "cell_type": "code",
   "execution_count": 4,
   "metadata": {},
   "outputs": [
    {
     "name": "stdout",
     "output_type": "stream",
     "text": [
      "print('Hello')\n",
      "Hello\n"
     ]
    }
   ],
   "source": [
    "print('Hello')"
   ]
  },
  {
   "cell_type": "code",
   "execution_count": 5,
   "metadata": {},
   "outputs": [
    {
     "name": "stdout",
     "output_type": "stream",
     "text": [
      "DEVICE: P8, UUID: F53EDB2E-25A2-45A7-95A5-4D775DFE51D2, ID: dda7ca85a6c4\n",
      "SYSTEM NAME: nrf52\n",
      "NODE NAME: nrf52\n",
      "RELEASE: 1.13.0\n",
      "VERSION: v1.4.5-7345-g9d1f1c2f9-dirty on 2021-04-29\n",
      "MACHINE: COLMI P8 with NRF52832\n"
     ]
    }
   ],
   "source": [
    "%whoami"
   ]
  },
  {
   "cell_type": "code",
   "execution_count": 10,
   "metadata": {},
   "outputs": [
    {
     "name": "stdout",
     "output_type": "stream",
     "text": [
      "\u001b[31mDevice nrf52 disconnected.\u001b[0m"
     ]
    }
   ],
   "source": [
    "%disconnect"
   ]
  },
  {
   "cell_type": "code",
   "execution_count": 6,
   "metadata": {},
   "outputs": [
    {
     "name": "stdout",
     "output_type": "stream",
     "text": [
      "os.listdir()\n",
      "['blittest.py', 'lib', 'main.py', 'pass_qr.pbm', 'test_watch.py']\n"
     ]
    }
   ],
   "source": [
    "os.listdir()"
   ]
  },
  {
   "cell_type": "code",
   "execution_count": 7,
   "metadata": {},
   "outputs": [
    {
     "name": "stdout",
     "output_type": "stream",
     "text": [
      "import time\n"
     ]
    }
   ],
   "source": [
    "import time"
   ]
  },
  {
   "cell_type": "code",
   "execution_count": 8,
   "metadata": {},
   "outputs": [
    {
     "name": "stdout",
     "output_type": "stream",
     "text": [
      "\n",
      "\n",
      "*** OSError *** \n",
      "\n",
      "\n",
      " Characteristic 6e400002-b5a3-f393-e0a9-e50e24dcca9e was not found! \n",
      "\u001b[31m\n",
      "\n",
      "*** Connection broken ***\n",
      "\u001b[0mYou may need to reconnect"
     ]
    }
   ],
   "source": [
    "for i in range(5):\n",
    "    print('Hello')\n",
    "    time.sleep(1)"
   ]
  },
  {
   "cell_type": "code",
   "execution_count": null,
   "metadata": {},
   "outputs": [],
   "source": []
  }
 ],
 "metadata": {
  "kernelspec": {
   "display_name": "MicroPython upydevice kernel",
   "language": "python",
   "name": "micropython-upydevice"
  },
  "language_info": {
   "codemirror_mode": "python",
   "file_extension": ".py",
   "mimetype": "text/x-python",
   "name": "python",
   "pygments_lexer": "python"
  }
 },
 "nbformat": 4,
 "nbformat_minor": 4
}
